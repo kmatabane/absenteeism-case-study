{
 "cells": [
  {
   "cell_type": "code",
   "execution_count": 1,
   "metadata": {},
   "outputs": [],
   "source": [
    "# import the absenteeism module created \n",
    "from absenteeism_module import *\n",
    "\n",
    "# create an instance of the absenteeism model class with the arguments for the model file and the scaler\n",
    "model = absenteeism_model('model','scaler')\n",
    "\n",
    "# call the method to load and clean the data from the absenteeism model class\n",
    "model.load_and_clean_data('Absenteeism_new_data.csv')\n",
    "\n",
    "# export the obtained dataset witht the predictions to a .csv file\n",
    "model.predicted_outputs().to_csv('Absenteeism_predictions.csv', index = False)"
   ]
  }
 ],
 "metadata": {
  "kernelspec": {
   "display_name": "Python 3",
   "language": "python",
   "name": "python3"
  },
  "language_info": {
   "codemirror_mode": {
    "name": "ipython",
    "version": 3
   },
   "file_extension": ".py",
   "mimetype": "text/x-python",
   "name": "python",
   "nbconvert_exporter": "python",
   "pygments_lexer": "ipython3",
   "version": "3.8.3"
  }
 },
 "nbformat": 4,
 "nbformat_minor": 2
}
